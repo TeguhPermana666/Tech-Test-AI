{
 "cells": [
  {
   "cell_type": "markdown",
   "metadata": {},
   "source": [
    "## Part 1 Multiple Choice"
   ]
  },
  {
   "cell_type": "code",
   "execution_count": 1,
   "metadata": {},
   "outputs": [
    {
     "name": "stdout",
     "output_type": "stream",
     "text": [
      "[1, 2, 3, 4]\n"
     ]
    }
   ],
   "source": [
    "# question nomber 4\n",
    "x = [1,2,3]\n",
    "y = x\n",
    "y.append(4)\n",
    "print(x)"
   ]
  },
  {
   "cell_type": "code",
   "execution_count": 2,
   "metadata": {},
   "outputs": [
    {
     "name": "stdout",
     "output_type": "stream",
     "text": [
      "1\n",
      "2\n",
      "3\n",
      "4\n"
     ]
    }
   ],
   "source": [
    "# question nomber 5\n",
    "for i in range(1,5):\n",
    "    print(i)"
   ]
  },
  {
   "cell_type": "markdown",
   "metadata": {},
   "source": [
    "## Part 2 Coding Exercise"
   ]
  },
  {
   "cell_type": "markdown",
   "metadata": {},
   "source": [
    "### 1. Write a Python function to calculate the factorial of a given non-negative integer. The function signature should be"
   ]
  },
  {
   "cell_type": "code",
   "execution_count": 4,
   "metadata": {},
   "outputs": [
    {
     "name": "stdout",
     "output_type": "stream",
     "text": [
      "The Factorial 5 is : 120\n"
     ]
    }
   ],
   "source": [
    "def factorial(n):\n",
    "    if n<0: # Cek conditional number\n",
    "        return \"Factorial is not defined for negative number\"\n",
    "    elif n==0 or n==1:\n",
    "        return 1\n",
    "    else:\n",
    "        return n* factorial(n-1) # recrusive\n",
    "# check \n",
    "print(\"The Factorial 5 is :\",factorial(5))"
   ]
  },
  {
   "cell_type": "code",
   "execution_count": 5,
   "metadata": {},
   "outputs": [
    {
     "name": "stdout",
     "output_type": "stream",
     "text": [
      "120\n"
     ]
    }
   ],
   "source": [
    "# Manual check\n",
    "print(5*4*3*2*1)"
   ]
  },
  {
   "cell_type": "markdown",
   "metadata": {},
   "source": [
    "### 2. Create a Python class called Circle with attributes radius and methods area and circumference. Implement the class such that:\n",
    "- The area method calculates and returns the area of the circle.\n",
    "- The circumference method calculates and returns the circumference of the circle.\n",
    "- The radius can be set during object creation and retrieved using the radius attribute."
   ]
  },
  {
   "cell_type": "code",
   "execution_count": 6,
   "metadata": {},
   "outputs": [],
   "source": [
    "import math\n",
    "class Circle():\n",
    "    def __init__(self, radius):\n",
    "        self.radius = radius\n",
    "    def area(self):\n",
    "        return math.pi * self.radius * self.radius \n",
    "    def circumference(self):\n",
    "        return 2 * math.pi * self.radius"
   ]
  },
  {
   "cell_type": "code",
   "execution_count": 7,
   "metadata": {},
   "outputs": [
    {
     "name": "stdout",
     "output_type": "stream",
     "text": [
      "Radius: 7\n",
      "Area: 153.93804002589985\n",
      "Circumference: 43.982297150257104\n"
     ]
    }
   ],
   "source": [
    "# Test\n",
    "radius = 7\n",
    "circle = Circle(radius) #initialisasi\n",
    "# Set the result\n",
    "print(\"Radius:\",circle.radius)\n",
    "print(\"Area:\",circle.area())\n",
    "print(\"Circumference:\",circle.circumference())"
   ]
  },
  {
   "cell_type": "markdown",
   "metadata": {},
   "source": [
    "### 3. Given a list of integers, write a Python function to find the sum of all even numbers in the list. The function signature should be:"
   ]
  },
  {
   "cell_type": "code",
   "execution_count": 10,
   "metadata": {},
   "outputs": [
    {
     "data": {
      "text/plain": [
       "30"
      ]
     },
     "execution_count": 10,
     "metadata": {},
     "output_type": "execute_result"
    }
   ],
   "source": [
    "def sum_of_evens(numbers):\n",
    "    temp = 0\n",
    "    for number in numbers:\n",
    "        if number %2 ==0:\n",
    "            temp+=number # all of the even number will be sum\n",
    "    return temp\n",
    "# check \n",
    "sum_of_evens([1,2,3,4,5,6,7,8,9,10])"
   ]
  },
  {
   "cell_type": "markdown",
   "metadata": {},
   "source": [
    "## Part 3. Bonus\n",
    "Explain the difference between a shallow copy and a deep copy in Python. Provide an example for each.\n"
   ]
  },
  {
   "cell_type": "markdown",
   "metadata": {},
   "source": [
    "### 3.1. Shallow Coppy\n",
    "Shallow Coppy => Create a new object doesn't recusively duplicate all nested object \n",
    "- It copy references on nested object\n",
    "- Or we can see pass by references"
   ]
  },
  {
   "cell_type": "code",
   "execution_count": 28,
   "metadata": {},
   "outputs": [
    {
     "name": "stdout",
     "output_type": "stream",
     "text": [
      "[1, [2, 3], 4]\n",
      "Original: [1, [2, 100], 4]\n",
      "shallow_coppy: [1, [2, 100], 4]\n"
     ]
    }
   ],
   "source": [
    "import copy\n",
    "original = [1, [2,3], 4]\n",
    "shallow_coppy = copy.copy(original)\n",
    "print(original)\n",
    "shallow_coppy[1][1] = 100\n",
    "print(\"Original:\",original)\n",
    "print(\"shallow_coppy:\",shallow_coppy)"
   ]
  },
  {
   "cell_type": "markdown",
   "metadata": {},
   "source": [
    "- We see => we change the variabel shallow coppy[1][1] =100 => before that i coppy the references original to shallow_coppy variabel (pass by references)\n",
    "    - the result is value of the original is change too"
   ]
  },
  {
   "cell_type": "markdown",
   "metadata": {},
   "source": [
    "### 3.2. Deep Coppy\n",
    "Deep Coppy => Create a new object only pass the value, and duplicate all nested object\n",
    "- It just coppy a value\n",
    "- Pass by value"
   ]
  },
  {
   "cell_type": "code",
   "execution_count": 29,
   "metadata": {},
   "outputs": [
    {
     "name": "stdout",
     "output_type": "stream",
     "text": [
      "[1, [2, 3], 4]\n",
      "Original: [1, [2, 3], 4]\n",
      "deep_coppy: [1, [2, 100], 4]\n"
     ]
    }
   ],
   "source": [
    "import copy\n",
    "original = [1, [2,3], 4]\n",
    "deep_coppy = copy.deepcopy(original)\n",
    "print(original)\n",
    "deep_coppy[1][1] = 100\n",
    "print(\"Original:\",original)\n",
    "print(\"deep_coppy:\",shallow_coppy)"
   ]
  },
  {
   "cell_type": "markdown",
   "metadata": {},
   "source": [
    "- We see => we change the variabel deep coppy[1][1] =100 => before that i coppy the value by deepcoppy original to shallow_coppy variabel (pass by value)\n",
    "    - the result is value of the original is not change\n",
    "    - change a value only on deep_coppy variabel"
   ]
  },
  {
   "cell_type": "markdown",
   "metadata": {},
   "source": [
    "## Part 4. Write a Python program that reads a text file named \"input.txt\" and counts the frequency of each word in the file. Then, write the word frequencies to an output file named \"output.txt\" in the format:\n",
    "- word1: frequency1\n",
    "- word2: frequency2"
   ]
  },
  {
   "cell_type": "code",
   "execution_count": 11,
   "metadata": {},
   "outputs": [],
   "source": [
    "def count_word(input_file,output_file):\n",
    "    frequencies = {}\n",
    "    \n",
    "    with open(input_file,'r') as file:\n",
    "        for line in file:\n",
    "            words = line.split()\n",
    "            for word in words:\n",
    "                word = word.strip(\".?()[]{}\\\"'\")\n",
    "                word = word.lower()\n",
    "                # Check new word\n",
    "                if word not in frequencies:\n",
    "                    frequencies[word] =1\n",
    "                else:\n",
    "                    frequencies[word]+=1\n",
    "    with open(output_file,'w') as file:\n",
    "        for word,freq in frequencies.items():\n",
    "            file.write(f\"{word} : {freq}\\n\")"
   ]
  },
  {
   "cell_type": "code",
   "execution_count": 18,
   "metadata": {},
   "outputs": [],
   "source": [
    "# Test the result :\n",
    "if __name__ == \"__main__\":\n",
    "    input_file = \"input.txt\"\n",
    "    output_file = \"output.txt\"\n",
    "    count_word(input_file, output_file)"
   ]
  }
 ],
 "metadata": {
  "kernelspec": {
   "display_name": "Python 3.9.12 ('base')",
   "language": "python",
   "name": "python3"
  },
  "language_info": {
   "codemirror_mode": {
    "name": "ipython",
    "version": 3
   },
   "file_extension": ".py",
   "mimetype": "text/x-python",
   "name": "python",
   "nbconvert_exporter": "python",
   "pygments_lexer": "ipython3",
   "version": "3.9.12"
  },
  "orig_nbformat": 4,
  "vscode": {
   "interpreter": {
    "hash": "f08154012ddadd8e950e6e9e035c7a7b32c136e7647e9b7c77e02eb723a8bedb"
   }
  }
 },
 "nbformat": 4,
 "nbformat_minor": 2
}
